{
 "cells": [
  {
   "cell_type": "code",
   "execution_count": 1,
   "metadata": {},
   "outputs": [],
   "source": [
    "import numpy as np\n",
    "import pandas as pd\n",
    "from sklearn import linear_model\n",
    "import matplotlib.pyplot as plt\n",
    "from datetime import datetime"
   ]
  },
  {
   "cell_type": "code",
   "execution_count": 2,
   "metadata": {},
   "outputs": [
    {
     "data": {
      "text/html": [
       "<div>\n",
       "<style scoped>\n",
       "    .dataframe tbody tr th:only-of-type {\n",
       "        vertical-align: middle;\n",
       "    }\n",
       "\n",
       "    .dataframe tbody tr th {\n",
       "        vertical-align: top;\n",
       "    }\n",
       "\n",
       "    .dataframe thead th {\n",
       "        text-align: right;\n",
       "    }\n",
       "</style>\n",
       "<table border=\"1\" class=\"dataframe\">\n",
       "  <thead>\n",
       "    <tr style=\"text-align: right;\">\n",
       "      <th></th>\n",
       "      <th>year</th>\n",
       "      <th>month</th>\n",
       "      <th>day</th>\n",
       "      <th>gender</th>\n",
       "      <th>births</th>\n",
       "    </tr>\n",
       "  </thead>\n",
       "  <tbody>\n",
       "    <tr>\n",
       "      <th>15542</th>\n",
       "      <td>2008</td>\n",
       "      <td>10</td>\n",
       "      <td>NaN</td>\n",
       "      <td>M</td>\n",
       "      <td>183219</td>\n",
       "    </tr>\n",
       "    <tr>\n",
       "      <th>15543</th>\n",
       "      <td>2008</td>\n",
       "      <td>11</td>\n",
       "      <td>NaN</td>\n",
       "      <td>F</td>\n",
       "      <td>158939</td>\n",
       "    </tr>\n",
       "    <tr>\n",
       "      <th>15544</th>\n",
       "      <td>2008</td>\n",
       "      <td>11</td>\n",
       "      <td>NaN</td>\n",
       "      <td>M</td>\n",
       "      <td>165468</td>\n",
       "    </tr>\n",
       "    <tr>\n",
       "      <th>15545</th>\n",
       "      <td>2008</td>\n",
       "      <td>12</td>\n",
       "      <td>NaN</td>\n",
       "      <td>F</td>\n",
       "      <td>173215</td>\n",
       "    </tr>\n",
       "    <tr>\n",
       "      <th>15546</th>\n",
       "      <td>2008</td>\n",
       "      <td>12</td>\n",
       "      <td>NaN</td>\n",
       "      <td>M</td>\n",
       "      <td>181235</td>\n",
       "    </tr>\n",
       "  </tbody>\n",
       "</table>\n",
       "</div>"
      ],
      "text/plain": [
       "       year  month  day gender  births\n",
       "15542  2008     10  NaN      M  183219\n",
       "15543  2008     11  NaN      F  158939\n",
       "15544  2008     11  NaN      M  165468\n",
       "15545  2008     12  NaN      F  173215\n",
       "15546  2008     12  NaN      M  181235"
      ]
     },
     "execution_count": 2,
     "metadata": {},
     "output_type": "execute_result"
    }
   ],
   "source": [
    "# Load file contents\n",
    "data = pd.read_csv('births.csv')\n",
    "\n",
    "#day of week\n",
    "week_day = ['Monday','Tuesday','Wednesday','Thursday','Friday','Saturday','Sunday']\n",
    "\n",
    "#see Data\n",
    "data.tail()"
   ]
  },
  {
   "cell_type": "code",
   "execution_count": 3,
   "metadata": {},
   "outputs": [
    {
     "data": {
      "text/plain": [
       "year      15547\n",
       "month     15547\n",
       "day       15067\n",
       "gender    15547\n",
       "births    15547\n",
       "dtype: int64"
      ]
     },
     "execution_count": 3,
     "metadata": {},
     "output_type": "execute_result"
    }
   ],
   "source": [
    "#before cleaning\n",
    "data.count()"
   ]
  },
  {
   "cell_type": "code",
   "execution_count": 14,
   "metadata": {},
   "outputs": [
    {
     "data": {
      "text/plain": [
       "year      14610\n",
       "month     14610\n",
       "day       14610\n",
       "gender    14610\n",
       "births    14610\n",
       "dtype: int64"
      ]
     },
     "execution_count": 14,
     "metadata": {},
     "output_type": "execute_result"
    }
   ],
   "source": [
    "#cleaning data \n",
    "\n",
    "# is a Leap Year\n",
    "def isLeapYear(year):\n",
    "    bissextile = False\n",
    "    if year % 400 == 0: # If the year is divisible by 400\n",
    "        bissextile = True\n",
    "    elif year % 100 == 0: # If the year is divisible by 100\n",
    "        bissextile = False\n",
    "    elif year % 4 == 0: # If the year is divisible by 4\n",
    "        bissextile = True\n",
    "\n",
    "    if bissextile:\n",
    "        return True\n",
    "    else:\n",
    "        return False\n",
    "\n",
    "# Delete NaN\n",
    "newData = data.dropna()\n",
    "\n",
    "# Delete not good date\n",
    "mask31 = ((newData['month'] == 1) | (newData['month'] == 3) | (newData['month'] == 5) | (newData['month'] == 7) | (newData['month'] == 8) | (newData['month'] == 10)| (newData['month'] == 12)) & (newData['day'] <= 31)\n",
    "mask30 = ((newData['month'] == 4) | (newData['month'] == 6) | (newData['month'] == 9) | (newData['month'] == 11)) & (newData['day'] <= 30)\n",
    "mask29 = (newData['month'] == 2) & (newData['day'] <= 29) & (newData['year'].apply(lambda x: isLeapYear(x)) == True)\n",
    "mask28 = (newData['month'] == 2) & (newData['day'] <= 28) & (newData['year'].apply(lambda x: isLeapYear(x)) == False)\n",
    "\n",
    "newData = newData[mask31 | mask30 | mask29 | mask28]\n",
    "\n",
    "# Day to int\n",
    "newData['day'] = newData['day'].apply(np.int64)\n",
    "\n",
    "#after cleaning\n",
    "newData.count()"
   ]
  },
  {
   "cell_type": "code",
   "execution_count": 18,
   "metadata": {},
   "outputs": [],
   "source": [
    "# create day of week column \n",
    "birthday = newData['year'].apply(np.str) + ' ' + newData['month'].apply(np.str)+ ' '+ newData['day'].apply(np.str)\n",
    "newData['dayofweek'] = birthday.apply(lambda x: datetime.strptime(x, '%Y %m %d').weekday())\n"
   ]
  },
  {
   "cell_type": "code",
   "execution_count": 19,
   "metadata": {},
   "outputs": [
    {
     "data": {
      "text/html": [
       "<div>\n",
       "<style scoped>\n",
       "    .dataframe tbody tr th:only-of-type {\n",
       "        vertical-align: middle;\n",
       "    }\n",
       "\n",
       "    .dataframe tbody tr th {\n",
       "        vertical-align: top;\n",
       "    }\n",
       "\n",
       "    .dataframe thead th {\n",
       "        text-align: right;\n",
       "    }\n",
       "</style>\n",
       "<table border=\"1\" class=\"dataframe\">\n",
       "  <thead>\n",
       "    <tr style=\"text-align: right;\">\n",
       "      <th></th>\n",
       "      <th>year</th>\n",
       "      <th>month</th>\n",
       "      <th>day</th>\n",
       "      <th>gender</th>\n",
       "      <th>births</th>\n",
       "      <th>dayofweek</th>\n",
       "    </tr>\n",
       "  </thead>\n",
       "  <tbody>\n",
       "    <tr>\n",
       "      <th>15062</th>\n",
       "      <td>1988</td>\n",
       "      <td>12</td>\n",
       "      <td>29</td>\n",
       "      <td>M</td>\n",
       "      <td>5944</td>\n",
       "      <td>3</td>\n",
       "    </tr>\n",
       "    <tr>\n",
       "      <th>15063</th>\n",
       "      <td>1988</td>\n",
       "      <td>12</td>\n",
       "      <td>30</td>\n",
       "      <td>F</td>\n",
       "      <td>5742</td>\n",
       "      <td>4</td>\n",
       "    </tr>\n",
       "    <tr>\n",
       "      <th>15064</th>\n",
       "      <td>1988</td>\n",
       "      <td>12</td>\n",
       "      <td>30</td>\n",
       "      <td>M</td>\n",
       "      <td>6095</td>\n",
       "      <td>4</td>\n",
       "    </tr>\n",
       "    <tr>\n",
       "      <th>15065</th>\n",
       "      <td>1988</td>\n",
       "      <td>12</td>\n",
       "      <td>31</td>\n",
       "      <td>F</td>\n",
       "      <td>4435</td>\n",
       "      <td>5</td>\n",
       "    </tr>\n",
       "    <tr>\n",
       "      <th>15066</th>\n",
       "      <td>1988</td>\n",
       "      <td>12</td>\n",
       "      <td>31</td>\n",
       "      <td>M</td>\n",
       "      <td>4698</td>\n",
       "      <td>5</td>\n",
       "    </tr>\n",
       "  </tbody>\n",
       "</table>\n",
       "</div>"
      ],
      "text/plain": [
       "       year  month  day gender  births  dayofweek\n",
       "15062  1988     12   29      M    5944          3\n",
       "15063  1988     12   30      F    5742          4\n",
       "15064  1988     12   30      M    6095          4\n",
       "15065  1988     12   31      F    4435          5\n",
       "15066  1988     12   31      M    4698          5"
      ]
     },
     "execution_count": 19,
     "metadata": {},
     "output_type": "execute_result"
    }
   ],
   "source": [
    "newData.tail()"
   ]
  },
  {
   "cell_type": "code",
   "execution_count": 20,
   "metadata": {},
   "outputs": [],
   "source": [
    "# the decades\n",
    "mask1960 = ((newData['year'] >= 1960) & (newData['year'] < 1970))\n",
    "mask1970 = ((newData['year'] >= 1970) & (newData['year'] < 1980))\n",
    "mask1980 = ((newData['year'] >= 1980) & (newData['year'] < 1990))\n",
    "\n",
    "# the decades grouped by dayofweek\n",
    "births1960 = newData[mask1960].groupby('dayofweek', as_index = False)\n",
    "births1970 = newData[mask1970].groupby('dayofweek', as_index = False)\n",
    "births1980 = newData[mask1980].groupby('dayofweek', as_index = False)\n",
    "\n",
    "# the sum of births for each decade grouped by dayofweek\n",
    "curve1960 = births1960['births'].sum()\n",
    "curve1970 = births1970['births'].sum()\n",
    "curve1980 = births1980['births'].sum()"
   ]
  },
  {
   "cell_type": "code",
   "execution_count": 28,
   "metadata": {},
   "outputs": [
    {
     "data": {
      "image/png": "[encoded data removed]",
      "text/plain": [
       "<Figure size 792x576 with 1 Axes>"
      ]
     },
     "metadata": {},
     "output_type": "display_data"
    }
   ],
   "source": [
    "# plote: The number of births for each day of the week\n",
    "fig = plt.figure(figsize=(11,8))\n",
    "plt.title(\"The number of births for each day of the week\")\n",
    "plt.style.use(plt.style.available[5])\n",
    "plt.plot(week_day,curve1960[\"births\"], label=\"Births on 1960\")\n",
    "plt.plot(week_day,curve1970[\"births\"], label=\"Births on 1970\")\n",
    "plt.plot(week_day,curve1980[\"births\"], label=\"Births on 1980\")\n",
    "plt.legend(loc='center right');\n",
    "plt.xlabel(\"Days of week\")\n",
    "plt.ylabel(\"Births\")\n",
    "plt.show()\n"
   ]
  },
  {
   "cell_type": "code",
   "execution_count": null,
   "metadata": {},
   "outputs": [],
   "source": []
  },
  {
   "cell_type": "code",
   "execution_count": null,
   "metadata": {},
   "outputs": [],
   "source": []
  }
 ],
 "metadata": {
  "kernelspec": {
   "display_name": "Python 3",
   "language": "python",
   "name": "python3"
  },
  "language_info": {
   "codemirror_mode": {
    "name": "ipython",
    "version": 3
   },
   "file_extension": ".py",
   "mimetype": "text/x-python",
   "name": "python",
   "nbconvert_exporter": "python",
   "pygments_lexer": "ipython3",
   "version": "3.7.3"
  }
 },
 "nbformat": 4,
 "nbformat_minor": 2
}
