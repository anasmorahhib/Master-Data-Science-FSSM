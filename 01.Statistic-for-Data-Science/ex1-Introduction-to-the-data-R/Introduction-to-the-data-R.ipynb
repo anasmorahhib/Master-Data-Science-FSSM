{
 "cells": [
  {
   "cell_type": "code",
   "execution_count": 1,
   "metadata": {},
   "outputs": [
    {
     "data": {
      "text/html": [
       "<ol class=list-inline>\n",
       "\t<li>'genhlth'</li>\n",
       "\t<li>'exerany'</li>\n",
       "\t<li>'hlthplan'</li>\n",
       "\t<li>'smoke100'</li>\n",
       "\t<li>'height'</li>\n",
       "\t<li>'weight'</li>\n",
       "\t<li>'wtdesire'</li>\n",
       "\t<li>'age'</li>\n",
       "\t<li>'gender'</li>\n",
       "</ol>\n"
      ],
      "text/latex": [
       "\\begin{enumerate*}\n",
       "\\item 'genhlth'\n",
       "\\item 'exerany'\n",
       "\\item 'hlthplan'\n",
       "\\item 'smoke100'\n",
       "\\item 'height'\n",
       "\\item 'weight'\n",
       "\\item 'wtdesire'\n",
       "\\item 'age'\n",
       "\\item 'gender'\n",
       "\\end{enumerate*}\n"
      ],
      "text/markdown": [
       "1. 'genhlth'\n",
       "2. 'exerany'\n",
       "3. 'hlthplan'\n",
       "4. 'smoke100'\n",
       "5. 'height'\n",
       "6. 'weight'\n",
       "7. 'wtdesire'\n",
       "8. 'age'\n",
       "9. 'gender'\n",
       "\n",
       "\n"
      ],
      "text/plain": [
       "[1] \"genhlth\"  \"exerany\"  \"hlthplan\" \"smoke100\" \"height\"   \"weight\"   \"wtdesire\"\n",
       "[8] \"age\"      \"gender\"  "
      ]
     },
     "metadata": {},
     "output_type": "display_data"
    }
   ],
   "source": [
    "source(\"cdc.R\")\n",
    "# columns \n",
    "names(cdc)"
   ]
  },
  {
   "cell_type": "code",
   "execution_count": 4,
   "metadata": {},
   "outputs": [
    {
     "data": {
      "text/html": [
       "<ol class=list-inline>\n",
       "\t<li>20000</li>\n",
       "\t<li>9</li>\n",
       "</ol>\n"
      ],
      "text/latex": [
       "\\begin{enumerate*}\n",
       "\\item 20000\n",
       "\\item 9\n",
       "\\end{enumerate*}\n"
      ],
      "text/markdown": [
       "1. 20000\n",
       "2. 9\n",
       "\n",
       "\n"
      ],
      "text/plain": [
       "[1] 20000     9"
      ]
     },
     "metadata": {},
     "output_type": "display_data"
    }
   ],
   "source": [
    "# 1.Check the size of the data frame: dim(cdc)\n",
    "dim(cdc)"
   ]
  },
  {
   "cell_type": "code",
   "execution_count": 5,
   "metadata": {},
   "outputs": [
    {
     "data": {
      "text/html": [
       "<table>\n",
       "<thead><tr><th scope=col>genhlth</th><th scope=col>exerany</th><th scope=col>hlthplan</th><th scope=col>smoke100</th><th scope=col>height</th><th scope=col>weight</th><th scope=col>wtdesire</th><th scope=col>age</th><th scope=col>gender</th></tr></thead>\n",
       "<tbody>\n",
       "\t<tr><td>good     </td><td>0        </td><td>1        </td><td>0        </td><td>70       </td><td>175      </td><td>175      </td><td>77       </td><td>m        </td></tr>\n",
       "\t<tr><td>good     </td><td>0        </td><td>1        </td><td>1        </td><td>64       </td><td>125      </td><td>115      </td><td>33       </td><td>f        </td></tr>\n",
       "\t<tr><td>good     </td><td>1        </td><td>1        </td><td>1        </td><td>60       </td><td>105      </td><td>105      </td><td>49       </td><td>f        </td></tr>\n",
       "\t<tr><td>good     </td><td>1        </td><td>1        </td><td>0        </td><td>66       </td><td>132      </td><td>124      </td><td>42       </td><td>f        </td></tr>\n",
       "\t<tr><td>very good</td><td>0        </td><td>1        </td><td>0        </td><td>61       </td><td>150      </td><td>130      </td><td>55       </td><td>f        </td></tr>\n",
       "\t<tr><td>very good</td><td>1        </td><td>1        </td><td>0        </td><td>64       </td><td>114      </td><td>114      </td><td>55       </td><td>f        </td></tr>\n",
       "</tbody>\n",
       "</table>\n"
      ],
      "text/latex": [
       "\\begin{tabular}{r|lllllllll}\n",
       " genhlth & exerany & hlthplan & smoke100 & height & weight & wtdesire & age & gender\\\\\n",
       "\\hline\n",
       "\t good      & 0         & 1         & 0         & 70        & 175       & 175       & 77        & m        \\\\\n",
       "\t good      & 0         & 1         & 1         & 64        & 125       & 115       & 33        & f        \\\\\n",
       "\t good      & 1         & 1         & 1         & 60        & 105       & 105       & 49        & f        \\\\\n",
       "\t good      & 1         & 1         & 0         & 66        & 132       & 124       & 42        & f        \\\\\n",
       "\t very good & 0         & 1         & 0         & 61        & 150       & 130       & 55        & f        \\\\\n",
       "\t very good & 1         & 1         & 0         & 64        & 114       & 114       & 55        & f        \\\\\n",
       "\\end{tabular}\n"
      ],
      "text/markdown": [
       "\n",
       "genhlth | exerany | hlthplan | smoke100 | height | weight | wtdesire | age | gender | \n",
       "|---|---|---|---|---|---|\n",
       "| good      | 0         | 1         | 0         | 70        | 175       | 175       | 77        | m         | \n",
       "| good      | 0         | 1         | 1         | 64        | 125       | 115       | 33        | f         | \n",
       "| good      | 1         | 1         | 1         | 60        | 105       | 105       | 49        | f         | \n",
       "| good      | 1         | 1         | 0         | 66        | 132       | 124       | 42        | f         | \n",
       "| very good | 0         | 1         | 0         | 61        | 150       | 130       | 55        | f         | \n",
       "| very good | 1         | 1         | 0         | 64        | 114       | 114       | 55        | f         | \n",
       "\n",
       "\n"
      ],
      "text/plain": [
       "  genhlth   exerany hlthplan smoke100 height weight wtdesire age gender\n",
       "1 good      0       1        0        70     175    175      77  m     \n",
       "2 good      0       1        1        64     125    115      33  f     \n",
       "3 good      1       1        1        60     105    105      49  f     \n",
       "4 good      1       1        0        66     132    124      42  f     \n",
       "5 very good 0       1        0        61     150    130      55  f     \n",
       "6 very good 1       1        0        64     114    114      55  f     "
      ]
     },
     "metadata": {},
     "output_type": "display_data"
    },
    {
     "data": {
      "text/html": [
       "<table>\n",
       "<thead><tr><th></th><th scope=col>genhlth</th><th scope=col>exerany</th><th scope=col>hlthplan</th><th scope=col>smoke100</th><th scope=col>height</th><th scope=col>weight</th><th scope=col>wtdesire</th><th scope=col>age</th><th scope=col>gender</th></tr></thead>\n",
       "<tbody>\n",
       "\t<tr><th scope=row>19995</th><td>good     </td><td>0        </td><td>1        </td><td>1        </td><td>69       </td><td>224      </td><td>224      </td><td>73       </td><td>m        </td></tr>\n",
       "\t<tr><th scope=row>19996</th><td>good     </td><td>1        </td><td>1        </td><td>0        </td><td>66       </td><td>215      </td><td>140      </td><td>23       </td><td>f        </td></tr>\n",
       "\t<tr><th scope=row>19997</th><td>excellent</td><td>0        </td><td>1        </td><td>0        </td><td>73       </td><td>200      </td><td>185      </td><td>35       </td><td>m        </td></tr>\n",
       "\t<tr><th scope=row>19998</th><td>poor     </td><td>0        </td><td>1        </td><td>0        </td><td>65       </td><td>216      </td><td>150      </td><td>57       </td><td>f        </td></tr>\n",
       "\t<tr><th scope=row>19999</th><td>good     </td><td>1        </td><td>1        </td><td>0        </td><td>67       </td><td>165      </td><td>165      </td><td>81       </td><td>f        </td></tr>\n",
       "\t<tr><th scope=row>20000</th><td>good     </td><td>1        </td><td>1        </td><td>1        </td><td>69       </td><td>170      </td><td>165      </td><td>83       </td><td>m        </td></tr>\n",
       "</tbody>\n",
       "</table>\n"
      ],
      "text/latex": [
       "\\begin{tabular}{r|lllllllll}\n",
       "  & genhlth & exerany & hlthplan & smoke100 & height & weight & wtdesire & age & gender\\\\\n",
       "\\hline\n",
       "\t19995 & good      & 0         & 1         & 1         & 69        & 224       & 224       & 73        & m        \\\\\n",
       "\t19996 & good      & 1         & 1         & 0         & 66        & 215       & 140       & 23        & f        \\\\\n",
       "\t19997 & excellent & 0         & 1         & 0         & 73        & 200       & 185       & 35        & m        \\\\\n",
       "\t19998 & poor      & 0         & 1         & 0         & 65        & 216       & 150       & 57        & f        \\\\\n",
       "\t19999 & good      & 1         & 1         & 0         & 67        & 165       & 165       & 81        & f        \\\\\n",
       "\t20000 & good      & 1         & 1         & 1         & 69        & 170       & 165       & 83        & m        \\\\\n",
       "\\end{tabular}\n"
      ],
      "text/markdown": [
       "\n",
       "| <!--/--> | genhlth | exerany | hlthplan | smoke100 | height | weight | wtdesire | age | gender | \n",
       "|---|---|---|---|---|---|\n",
       "| 19995 | good      | 0         | 1         | 1         | 69        | 224       | 224       | 73        | m         | \n",
       "| 19996 | good      | 1         | 1         | 0         | 66        | 215       | 140       | 23        | f         | \n",
       "| 19997 | excellent | 0         | 1         | 0         | 73        | 200       | 185       | 35        | m         | \n",
       "| 19998 | poor      | 0         | 1         | 0         | 65        | 216       | 150       | 57        | f         | \n",
       "| 19999 | good      | 1         | 1         | 0         | 67        | 165       | 165       | 81        | f         | \n",
       "| 20000 | good      | 1         | 1         | 1         | 69        | 170       | 165       | 83        | m         | \n",
       "\n",
       "\n"
      ],
      "text/plain": [
       "      genhlth   exerany hlthplan smoke100 height weight wtdesire age gender\n",
       "19995 good      0       1        1        69     224    224      73  m     \n",
       "19996 good      1       1        0        66     215    140      23  f     \n",
       "19997 excellent 0       1        0        73     200    185      35  m     \n",
       "19998 poor      0       1        0        65     216    150      57  f     \n",
       "19999 good      1       1        0        67     165    165      81  f     \n",
       "20000 good      1       1        1        69     170    165      83  m     "
      ]
     },
     "metadata": {},
     "output_type": "display_data"
    }
   ],
   "source": [
    "#2.\tDisplay the first and last few entries (rows): head(cdc) and tail(cdc)\n",
    "head(cdc) \n",
    "tail(cdc)"
   ]
  },
  {
   "cell_type": "code",
   "execution_count": 6,
   "metadata": {},
   "outputs": [
    {
     "data": {
      "text/plain": [
       "   Min. 1st Qu.  Median    Mean 3rd Qu.    Max. \n",
       "   68.0   140.0   165.0   169.7   190.0   500.0 "
      ]
     },
     "metadata": {},
     "output_type": "display_data"
    }
   ],
   "source": [
    "#3.\tA good first step in any analysis is to get a few summary statistics and graphics. Display a numerical summary (minimum, first quartile, median, mean, second quartile, and maximum) for weight: summary(cdc$weight)\n",
    "summary(cdc$weight)"
   ]
  },
  {
   "cell_type": "code",
   "execution_count": 7,
   "metadata": {},
   "outputs": [
    {
     "data": {
      "text/html": [
       "169.68295"
      ],
      "text/latex": [
       "169.68295"
      ],
      "text/markdown": [
       "169.68295"
      ],
      "text/plain": [
       "[1] 169.683"
      ]
     },
     "metadata": {},
     "output_type": "display_data"
    },
    {
     "data": {
      "text/html": [
       "1606.48415350518"
      ],
      "text/latex": [
       "1606.48415350518"
      ],
      "text/markdown": [
       "1606.48415350518"
      ],
      "text/plain": [
       "[1] 1606.484"
      ]
     },
     "metadata": {},
     "output_type": "display_data"
    },
    {
     "data": {
      "text/html": [
       "165"
      ],
      "text/latex": [
       "165"
      ],
      "text/markdown": [
       "165"
      ],
      "text/plain": [
       "[1] 165"
      ]
     },
     "metadata": {},
     "output_type": "display_data"
    }
   ],
   "source": [
    "# 4.\tCompute summary statistics one by one: mean(cdc$weight), var(cdc$weight) and median(cdc$weight)\n",
    "mean(cdc$weight)\n",
    "var(cdc$weight)\n",
    "median(cdc$weight)"
   ]
  },
  {
   "cell_type": "code",
   "execution_count": 8,
   "metadata": {},
   "outputs": [
    {
     "data": {
      "text/plain": [
       "\n",
       "    0     1 \n",
       "10559  9441 "
      ]
     },
     "metadata": {},
     "output_type": "display_data"
    },
    {
     "data": {
      "text/plain": [
       "\n",
       "      0       1 \n",
       "0.52795 0.47205 "
      ]
     },
     "metadata": {},
     "output_type": "display_data"
    }
   ],
   "source": [
    "#5.\tFor categorical data, consider the sample frequency or relative frequency distribution. The function table counts the number of times each kind of response was given. For example, to see the number of people who have smoked 100 cigarettes in their lifetime, type table(cdc$smoke100) or instead look at the relative frequency distribution by typing: table(cdc$smoke100)/20000\n",
    "table(cdc$smoke100) \n",
    "table(cdc$smoke100)/20000"
   ]
  },
  {
   "cell_type": "code",
   "execution_count": 9,
   "metadata": {},
   "outputs": [
    {
     "data": {
      "image/png": "[encoded data removed]",
      "text/plain": [
       "plot without title"
      ]
     },
     "metadata": {},
     "output_type": "display_data"
    }
   ],
   "source": [
    "#6.\tNext, make a bar plot of the entries in the table : barplot(table(cdc$smoke100))\n",
    "barplot(table(cdc$smoke100))"
   ]
  },
  {
   "cell_type": "code",
   "execution_count": 10,
   "metadata": {},
   "outputs": [
    {
     "data": {
      "image/png": "[encoded data removed]",
      "text/plain": [
       "plot without title"
      ]
     },
     "metadata": {},
     "output_type": "display_data"
    }
   ],
   "source": [
    "# 7.\tYou could also break this into two steps by typing the following: smoke <- table(cdc$smoke100) and then barplot(smoke)\n",
    "smoke <- table(cdc$smoke100)/2000 \n",
    "barplot(smoke)"
   ]
  },
  {
   "cell_type": "code",
   "execution_count": 11,
   "metadata": {},
   "outputs": [
    {
     "data": {
      "text/plain": [
       "   \n",
       "       0    1\n",
       "  m 4547 5022\n",
       "  f 6012 4419"
      ]
     },
     "metadata": {},
     "output_type": "display_data"
    }
   ],
   "source": [
    "# 8.\tThe table command can be used to tabulate any number of variables that you provide. Examine which participants have smoked across each gender: table(cdc$gender,cdc$smoke100)\n",
    "table(cdc$gender,cdc$smoke100)"
   ]
  },
  {
   "cell_type": "code",
   "execution_count": 12,
   "metadata": {},
   "outputs": [
    {
     "data": {
      "image/png": "[encoded data removed]",
      "text/plain": [
       "Plot with title \"table(cdc$gender, cdc$smoke100)\""
      ]
     },
     "metadata": {},
     "output_type": "display_data"
    }
   ],
   "source": [
    "# 9.\tCreate a mosaic plot of this table: mosaicplot(table(cdc$gender,cdc$smoke100,))\n",
    "mosaicplot(table(cdc$gender,cdc$smoke100))"
   ]
  },
  {
   "cell_type": "code",
   "execution_count": 13,
   "metadata": {},
   "outputs": [
    {
     "data": {
      "text/html": [
       "160"
      ],
      "text/latex": [
       "160"
      ],
      "text/markdown": [
       "160"
      ],
      "text/plain": [
       "[1] 160"
      ]
     },
     "metadata": {},
     "output_type": "display_data"
    },
    {
     "data": {
      "text/html": [
       "<ol class=list-inline>\n",
       "\t<li>175</li>\n",
       "\t<li>125</li>\n",
       "\t<li>105</li>\n",
       "\t<li>132</li>\n",
       "\t<li>150</li>\n",
       "\t<li>114</li>\n",
       "\t<li>194</li>\n",
       "\t<li>170</li>\n",
       "\t<li>150</li>\n",
       "\t<li>180</li>\n",
       "</ol>\n"
      ],
      "text/latex": [
       "\\begin{enumerate*}\n",
       "\\item 175\n",
       "\\item 125\n",
       "\\item 105\n",
       "\\item 132\n",
       "\\item 150\n",
       "\\item 114\n",
       "\\item 194\n",
       "\\item 170\n",
       "\\item 150\n",
       "\\item 180\n",
       "\\end{enumerate*}\n"
      ],
      "text/markdown": [
       "1. 175\n",
       "2. 125\n",
       "3. 105\n",
       "4. 132\n",
       "5. 150\n",
       "6. 114\n",
       "7. 194\n",
       "8. 170\n",
       "9. 150\n",
       "10. 180\n",
       "\n",
       "\n"
      ],
      "text/plain": [
       " [1] 175 125 105 132 150 114 194 170 150 180"
      ]
     },
     "metadata": {},
     "output_type": "display_data"
    },
    {
     "data": {
      "text/html": [
       "<table>\n",
       "<thead><tr><th scope=col>genhlth</th><th scope=col>exerany</th><th scope=col>hlthplan</th><th scope=col>smoke100</th><th scope=col>height</th><th scope=col>weight</th><th scope=col>wtdesire</th><th scope=col>age</th><th scope=col>gender</th></tr></thead>\n",
       "<tbody>\n",
       "\t<tr><td>good     </td><td>0        </td><td>1        </td><td>0        </td><td>70       </td><td>175      </td><td>175      </td><td>77       </td><td>m        </td></tr>\n",
       "\t<tr><td>good     </td><td>0        </td><td>1        </td><td>1        </td><td>64       </td><td>125      </td><td>115      </td><td>33       </td><td>f        </td></tr>\n",
       "\t<tr><td>good     </td><td>1        </td><td>1        </td><td>1        </td><td>60       </td><td>105      </td><td>105      </td><td>49       </td><td>f        </td></tr>\n",
       "\t<tr><td>good     </td><td>1        </td><td>1        </td><td>0        </td><td>66       </td><td>132      </td><td>124      </td><td>42       </td><td>f        </td></tr>\n",
       "\t<tr><td>very good</td><td>0        </td><td>1        </td><td>0        </td><td>61       </td><td>150      </td><td>130      </td><td>55       </td><td>f        </td></tr>\n",
       "\t<tr><td>very good</td><td>1        </td><td>1        </td><td>0        </td><td>64       </td><td>114      </td><td>114      </td><td>55       </td><td>f        </td></tr>\n",
       "</tbody>\n",
       "</table>\n"
      ],
      "text/latex": [
       "\\begin{tabular}{r|lllllllll}\n",
       " genhlth & exerany & hlthplan & smoke100 & height & weight & wtdesire & age & gender\\\\\n",
       "\\hline\n",
       "\t good      & 0         & 1         & 0         & 70        & 175       & 175       & 77        & m        \\\\\n",
       "\t good      & 0         & 1         & 1         & 64        & 125       & 115       & 33        & f        \\\\\n",
       "\t good      & 1         & 1         & 1         & 60        & 105       & 105       & 49        & f        \\\\\n",
       "\t good      & 1         & 1         & 0         & 66        & 132       & 124       & 42        & f        \\\\\n",
       "\t very good & 0         & 1         & 0         & 61        & 150       & 130       & 55        & f        \\\\\n",
       "\t very good & 1         & 1         & 0         & 64        & 114       & 114       & 55        & f        \\\\\n",
       "\\end{tabular}\n"
      ],
      "text/markdown": [
       "\n",
       "genhlth | exerany | hlthplan | smoke100 | height | weight | wtdesire | age | gender | \n",
       "|---|---|---|---|---|---|\n",
       "| good      | 0         | 1         | 0         | 70        | 175       | 175       | 77        | m         | \n",
       "| good      | 0         | 1         | 1         | 64        | 125       | 115       | 33        | f         | \n",
       "| good      | 1         | 1         | 1         | 60        | 105       | 105       | 49        | f         | \n",
       "| good      | 1         | 1         | 0         | 66        | 132       | 124       | 42        | f         | \n",
       "| very good | 0         | 1         | 0         | 61        | 150       | 130       | 55        | f         | \n",
       "| very good | 1         | 1         | 0         | 64        | 114       | 114       | 55        | f         | \n",
       "\n",
       "\n"
      ],
      "text/plain": [
       "  genhlth   exerany hlthplan smoke100 height weight wtdesire age gender\n",
       "1 good      0       1        0        70     175    175      77  m     \n",
       "2 good      0       1        1        64     125    115      33  f     \n",
       "3 good      1       1        1        60     105    105      49  f     \n",
       "4 good      1       1        0        66     132    124      42  f     \n",
       "5 very good 0       1        0        61     150    130      55  f     \n",
       "6 very good 1       1        0        64     114    114      55  f     "
      ]
     },
     "metadata": {},
     "output_type": "display_data"
    }
   ],
   "source": [
    "# 10.\tAccess a subset of the full data frame using row-and-column notation. What do the following commands display: cdc[567,6], cdc[1:10,6] and cdc[1:10,]\n",
    "#line 567 column 6 (weight)\n",
    "cdc[567,6]\n",
    "# lines from 1 to 10 column 6\n",
    "cdc[1:10,6]\n",
    "# lines from 1 to 10 all columns\n",
    "head(cdc[1:10,])"
   ]
  },
  {
   "cell_type": "code",
   "execution_count": 14,
   "metadata": {},
   "outputs": [
    {
     "data": {
      "text/html": [
       "<ol class=list-inline>\n",
       "\t<li>TRUE</li>\n",
       "\t<li>FALSE</li>\n",
       "\t<li>FALSE</li>\n",
       "\t<li>FALSE</li>\n",
       "\t<li>FALSE</li>\n",
       "\t<li>FALSE</li>\n",
       "</ol>\n"
      ],
      "text/latex": [
       "\\begin{enumerate*}\n",
       "\\item TRUE\n",
       "\\item FALSE\n",
       "\\item FALSE\n",
       "\\item FALSE\n",
       "\\item FALSE\n",
       "\\item FALSE\n",
       "\\end{enumerate*}\n"
      ],
      "text/markdown": [
       "1. TRUE\n",
       "2. FALSE\n",
       "3. FALSE\n",
       "4. FALSE\n",
       "5. FALSE\n",
       "6. FALSE\n",
       "\n",
       "\n"
      ],
      "text/plain": [
       "[1]  TRUE FALSE FALSE FALSE FALSE FALSE"
      ]
     },
     "metadata": {},
     "output_type": "display_data"
    },
    {
     "data": {
      "text/html": [
       "<ol class=list-inline>\n",
       "\t<li>TRUE</li>\n",
       "\t<li>TRUE</li>\n",
       "\t<li>TRUE</li>\n",
       "\t<li>TRUE</li>\n",
       "\t<li>TRUE</li>\n",
       "\t<li>TRUE</li>\n",
       "</ol>\n"
      ],
      "text/latex": [
       "\\begin{enumerate*}\n",
       "\\item TRUE\n",
       "\\item TRUE\n",
       "\\item TRUE\n",
       "\\item TRUE\n",
       "\\item TRUE\n",
       "\\item TRUE\n",
       "\\end{enumerate*}\n"
      ],
      "text/markdown": [
       "1. TRUE\n",
       "2. TRUE\n",
       "3. TRUE\n",
       "4. TRUE\n",
       "5. TRUE\n",
       "6. TRUE\n",
       "\n",
       "\n"
      ],
      "text/plain": [
       "[1] TRUE TRUE TRUE TRUE TRUE TRUE"
      ]
     },
     "metadata": {},
     "output_type": "display_data"
    }
   ],
   "source": [
    "# 11.\tIt's often useful to extract all individuals (cases) in a data set that have specific characteristics. We accomplish this through conditioning commands. Consider expressions like cdc$gender == \"m\" or cdc$age > 30\n",
    "\n",
    "head(cdc$gender == \"m\")\n",
    "head(cdc$age > 30)\n",
    "\n",
    "# all rows in cbc have gender == m; will return true else return false\n",
    "# all rows in cbc have age > 30 ; will return true else return false"
   ]
  },
  {
   "cell_type": "code",
   "execution_count": 15,
   "metadata": {},
   "outputs": [
    {
     "data": {
      "text/html": [
       "<table>\n",
       "<thead><tr><th></th><th scope=col>genhlth</th><th scope=col>exerany</th><th scope=col>hlthplan</th><th scope=col>smoke100</th><th scope=col>height</th><th scope=col>weight</th><th scope=col>wtdesire</th><th scope=col>age</th><th scope=col>gender</th></tr></thead>\n",
       "<tbody>\n",
       "\t<tr><th scope=row>1</th><td>good     </td><td>0        </td><td>1        </td><td>0        </td><td>70       </td><td>175      </td><td>175      </td><td>77       </td><td>m        </td></tr>\n",
       "\t<tr><th scope=row>7</th><td>very good</td><td>1        </td><td>1        </td><td>0        </td><td>71       </td><td>194      </td><td>185      </td><td>31       </td><td>m        </td></tr>\n",
       "\t<tr><th scope=row>8</th><td>very good</td><td>0        </td><td>1        </td><td>0        </td><td>67       </td><td>170      </td><td>160      </td><td>45       </td><td>m        </td></tr>\n",
       "\t<tr><th scope=row>10</th><td>good     </td><td>1        </td><td>1        </td><td>0        </td><td>70       </td><td>180      </td><td>170      </td><td>44       </td><td>m        </td></tr>\n",
       "\t<tr><th scope=row>11</th><td>excellent</td><td>1        </td><td>1        </td><td>1        </td><td>69       </td><td>186      </td><td>175      </td><td>46       </td><td>m        </td></tr>\n",
       "\t<tr><th scope=row>12</th><td>fair     </td><td>1        </td><td>1        </td><td>1        </td><td>69       </td><td>168      </td><td>148      </td><td>62       </td><td>m        </td></tr>\n",
       "</tbody>\n",
       "</table>\n"
      ],
      "text/latex": [
       "\\begin{tabular}{r|lllllllll}\n",
       "  & genhlth & exerany & hlthplan & smoke100 & height & weight & wtdesire & age & gender\\\\\n",
       "\\hline\n",
       "\t1 & good      & 0         & 1         & 0         & 70        & 175       & 175       & 77        & m        \\\\\n",
       "\t7 & very good & 1         & 1         & 0         & 71        & 194       & 185       & 31        & m        \\\\\n",
       "\t8 & very good & 0         & 1         & 0         & 67        & 170       & 160       & 45        & m        \\\\\n",
       "\t10 & good      & 1         & 1         & 0         & 70        & 180       & 170       & 44        & m        \\\\\n",
       "\t11 & excellent & 1         & 1         & 1         & 69        & 186       & 175       & 46        & m        \\\\\n",
       "\t12 & fair      & 1         & 1         & 1         & 69        & 168       & 148       & 62        & m        \\\\\n",
       "\\end{tabular}\n"
      ],
      "text/markdown": [
       "\n",
       "| <!--/--> | genhlth | exerany | hlthplan | smoke100 | height | weight | wtdesire | age | gender | \n",
       "|---|---|---|---|---|---|\n",
       "| 1 | good      | 0         | 1         | 0         | 70        | 175       | 175       | 77        | m         | \n",
       "| 7 | very good | 1         | 1         | 0         | 71        | 194       | 185       | 31        | m         | \n",
       "| 8 | very good | 0         | 1         | 0         | 67        | 170       | 160       | 45        | m         | \n",
       "| 10 | good      | 1         | 1         | 0         | 70        | 180       | 170       | 44        | m         | \n",
       "| 11 | excellent | 1         | 1         | 1         | 69        | 186       | 175       | 46        | m         | \n",
       "| 12 | fair      | 1         | 1         | 1         | 69        | 168       | 148       | 62        | m         | \n",
       "\n",
       "\n"
      ],
      "text/plain": [
       "   genhlth   exerany hlthplan smoke100 height weight wtdesire age gender\n",
       "1  good      0       1        0        70     175    175      77  m     \n",
       "7  very good 1       1        0        71     194    185      31  m     \n",
       "8  very good 0       1        0        67     170    160      45  m     \n",
       "10 good      1       1        0        70     180    170      44  m     \n",
       "11 excellent 1       1        1        69     186    175      46  m     \n",
       "12 fair      1       1        1        69     168    148      62  m     "
      ]
     },
     "metadata": {},
     "output_type": "display_data"
    }
   ],
   "source": [
    "# 12.\tExtract just the data for the men in the sample: mdata <- subset(cdc, cdc$gender == \"m\")\n",
    "mdata <- subset(cdc, cdc$gender == \"m\")\n",
    "head(mdata)"
   ]
  },
  {
   "cell_type": "code",
   "execution_count": 16,
   "metadata": {},
   "outputs": [
    {
     "data": {
      "text/html": [
       "<table>\n",
       "<thead><tr><th></th><th scope=col>genhlth</th><th scope=col>exerany</th><th scope=col>hlthplan</th><th scope=col>smoke100</th><th scope=col>height</th><th scope=col>weight</th><th scope=col>wtdesire</th><th scope=col>age</th><th scope=col>gender</th></tr></thead>\n",
       "<tbody>\n",
       "\t<tr><th scope=row>1</th><td>good     </td><td>0        </td><td>1        </td><td>0        </td><td>70       </td><td>175      </td><td>175      </td><td>77       </td><td>m        </td></tr>\n",
       "\t<tr><th scope=row>7</th><td>very good</td><td>1        </td><td>1        </td><td>0        </td><td>71       </td><td>194      </td><td>185      </td><td>31       </td><td>m        </td></tr>\n",
       "\t<tr><th scope=row>8</th><td>very good</td><td>0        </td><td>1        </td><td>0        </td><td>67       </td><td>170      </td><td>160      </td><td>45       </td><td>m        </td></tr>\n",
       "\t<tr><th scope=row>10</th><td>good     </td><td>1        </td><td>1        </td><td>0        </td><td>70       </td><td>180      </td><td>170      </td><td>44       </td><td>m        </td></tr>\n",
       "\t<tr><th scope=row>11</th><td>excellent</td><td>1        </td><td>1        </td><td>1        </td><td>69       </td><td>186      </td><td>175      </td><td>46       </td><td>m        </td></tr>\n",
       "\t<tr><th scope=row>12</th><td>fair     </td><td>1        </td><td>1        </td><td>1        </td><td>69       </td><td>168      </td><td>148      </td><td>62       </td><td>m        </td></tr>\n",
       "</tbody>\n",
       "</table>\n"
      ],
      "text/latex": [
       "\\begin{tabular}{r|lllllllll}\n",
       "  & genhlth & exerany & hlthplan & smoke100 & height & weight & wtdesire & age & gender\\\\\n",
       "\\hline\n",
       "\t1 & good      & 0         & 1         & 0         & 70        & 175       & 175       & 77        & m        \\\\\n",
       "\t7 & very good & 1         & 1         & 0         & 71        & 194       & 185       & 31        & m        \\\\\n",
       "\t8 & very good & 0         & 1         & 0         & 67        & 170       & 160       & 45        & m        \\\\\n",
       "\t10 & good      & 1         & 1         & 0         & 70        & 180       & 170       & 44        & m        \\\\\n",
       "\t11 & excellent & 1         & 1         & 1         & 69        & 186       & 175       & 46        & m        \\\\\n",
       "\t12 & fair      & 1         & 1         & 1         & 69        & 168       & 148       & 62        & m        \\\\\n",
       "\\end{tabular}\n"
      ],
      "text/markdown": [
       "\n",
       "| <!--/--> | genhlth | exerany | hlthplan | smoke100 | height | weight | wtdesire | age | gender | \n",
       "|---|---|---|---|---|---|\n",
       "| 1 | good      | 0         | 1         | 0         | 70        | 175       | 175       | 77        | m         | \n",
       "| 7 | very good | 1         | 1         | 0         | 71        | 194       | 185       | 31        | m         | \n",
       "| 8 | very good | 0         | 1         | 0         | 67        | 170       | 160       | 45        | m         | \n",
       "| 10 | good      | 1         | 1         | 0         | 70        | 180       | 170       | 44        | m         | \n",
       "| 11 | excellent | 1         | 1         | 1         | 69        | 186       | 175       | 46        | m         | \n",
       "| 12 | fair      | 1         | 1         | 1         | 69        | 168       | 148       | 62        | m         | \n",
       "\n",
       "\n"
      ],
      "text/plain": [
       "   genhlth   exerany hlthplan smoke100 height weight wtdesire age gender\n",
       "1  good      0       1        0        70     175    175      77  m     \n",
       "7  very good 1       1        0        71     194    185      31  m     \n",
       "8  very good 0       1        0        67     170    160      45  m     \n",
       "10 good      1       1        0        70     180    170      44  m     \n",
       "11 excellent 1       1        1        69     186    175      46  m     \n",
       "12 fair      1       1        1        69     168    148      62  m     "
      ]
     },
     "metadata": {},
     "output_type": "display_data"
    }
   ],
   "source": [
    "# 13.\tUse several of these conditions together: m_and_over30 <- subset(cdc, gender == \"m\" & age > 30)\n",
    "m_and_over30 <- subset(cdc, gender == \"m\" & age > 30)\n",
    "head(m_and_over30)"
   ]
  },
  {
   "cell_type": "code",
   "execution_count": 17,
   "metadata": {},
   "outputs": [
    {
     "data": {
      "image/png": "[encoded data removed]",
      "text/plain": [
       "plot without title"
      ]
     },
     "metadata": {},
     "output_type": "display_data"
    }
   ],
   "source": [
    "# 14.\tTwo common ways to visualize quantitative data are with box plots and histograms. Construct a box plot for the height: boxplot(cdc$height)\n",
    "boxplot(cdc$height)"
   ]
  },
  {
   "cell_type": "code",
   "execution_count": 18,
   "metadata": {},
   "outputs": [
    {
     "data": {
      "text/plain": [
       "   Min. 1st Qu.  Median    Mean 3rd Qu.    Max. \n",
       "  48.00   64.00   67.00   67.18   70.00   93.00 "
      ]
     },
     "metadata": {},
     "output_type": "display_data"
    }
   ],
   "source": [
    "# 15.\tCompare the locations of the components of the box by examining the summary statistics: summary(cdc$height) and confirm that the median and upper and lower quartiles reported in the numerical summary match those in the graph. \n",
    "summary(cdc$height)"
   ]
  },
  {
   "cell_type": "code",
   "execution_count": 19,
   "metadata": {},
   "outputs": [
    {
     "data": {
      "image/png": "[encoded data removed]",
      "text/plain": [
       "plot without title"
      ]
     },
     "metadata": {},
     "output_type": "display_data"
    }
   ],
   "source": [
    "#16.\tCompare the heights of men and women with boxplot(cdc$height ~ cdc$gender)\n",
    "boxplot(cdc$height ~ cdc$gender)"
   ]
  },
  {
   "cell_type": "code",
   "execution_count": 20,
   "metadata": {},
   "outputs": [
    {
     "data": {
      "image/png": "[encoded data removed]",
      "text/plain": [
       "Plot with title \"Histogram of cdc$age\""
      ]
     },
     "metadata": {},
     "output_type": "display_data"
    }
   ],
   "source": [
    "# 17.\tDisplay a histogram for the age of respondents: hist(cdc$age)\n",
    "hist(cdc$age)"
   ]
  },
  {
   "cell_type": "code",
   "execution_count": 21,
   "metadata": {},
   "outputs": [
    {
     "data": {
      "image/png": "[encoded data removed]",
      "text/plain": [
       "Plot with title \"Histogram of cdc$age\""
      ]
     },
     "metadata": {},
     "output_type": "display_data"
    }
   ],
   "source": [
    "# 18.\tControl the number of bins by adding an argument to the command: hist(cdc$age, breaks = 50)\n",
    "hist(cdc$age, breaks = 50)"
   ]
  },
  {
   "cell_type": "code",
   "execution_count": 2,
   "metadata": {},
   "outputs": [
    {
     "name": "stderr",
     "output_type": "stream",
     "text": [
      "Warning message:\n",
      "\"package 'tidyverse' was built under R version 3.5.3\"-- Attaching packages --------------------------------------- tidyverse 1.2.1 --\n",
      "v ggplot2 3.1.0     v purrr   0.2.5\n",
      "v tibble  1.4.2     v dplyr   0.7.8\n",
      "v tidyr   0.8.2     v stringr 1.3.1\n",
      "v readr   1.3.0     v forcats 0.3.0\n",
      "-- Conflicts ------------------------------------------ tidyverse_conflicts() --\n",
      "x dplyr::filter() masks stats::filter()\n",
      "x dplyr::lag()    masks stats::lag()\n"
     ]
    },
    {
     "data": {},
     "metadata": {},
     "output_type": "display_data"
    },
    {
     "data": {
      "image/png": "[encoded data removed]",
      "text/plain": [
       "plot without title"
      ]
     },
     "metadata": {},
     "output_type": "display_data"
    }
   ],
   "source": [
    "library(tidyverse)\n",
    "ggplot(data = cdc) + geom_point(mapping = aes(x = weight, y = wtdesire),color=\"blue\")"
   ]
  },
  {
   "cell_type": "code",
   "execution_count": 3,
   "metadata": {},
   "outputs": [
    {
     "name": "stderr",
     "output_type": "stream",
     "text": [
      "`geom_smooth()` using method = 'gam' and formula 'y ~ s(x, bs = \"cs\")'\n"
     ]
    },
    {
     "data": {},
     "metadata": {},
     "output_type": "display_data"
    },
    {
     "data": {
      "image/png": "[encoded data removed]",
      "text/plain": [
       "plot without title"
      ]
     },
     "metadata": {},
     "output_type": "display_data"
    }
   ],
   "source": [
    "ggplot(data = cdc, mapping = aes(x = weight, y = wtdesire)) + geom_point(color=\"orange\") + geom_smooth()"
   ]
  },
  {
   "cell_type": "code",
   "execution_count": 4,
   "metadata": {},
   "outputs": [],
   "source": [
    "#20.\tConsider a new variable: the difference between desired weight (wtdesire) and current weight (weight). Create this new variable by subtracting the two columns in the data frame and assigning them to a new object called wdiff.\n",
    "cdc$wdiff = cdc$weight - cdc$wtdesire"
   ]
  },
  {
   "cell_type": "code",
   "execution_count": 5,
   "metadata": {},
   "outputs": [
    {
     "data": {
      "text/html": [
       "'integer'"
      ],
      "text/latex": [
       "'integer'"
      ],
      "text/markdown": [
       "'integer'"
      ],
      "text/plain": [
       "[1] \"integer\""
      ]
     },
     "metadata": {},
     "output_type": "display_data"
    }
   ],
   "source": [
    "# 21.\tWhat type of data is wdiff? If an observation wdiff is 0, what does this mean about the person's weight and desired weight? What if wdiff is positive or negative?\n",
    "typeof(cdc$wdiff)\n",
    "#wdiff type is integer\n",
    "# If an observation wdiff is 0, it's means that the person want to keep his weight\n",
    "# If wdiff is positive, it's means that the person want to lose his weight. But if it was negative, then the person want to gain weight.\""
   ]
  },
  {
   "cell_type": "code",
   "execution_count": 39,
   "metadata": {},
   "outputs": [
    {
     "ename": "ERROR",
     "evalue": "Error in ggplot(data = cdc, mapping = aes(x = weight, y = wdiff)): impossible de trouver la fonction \"ggplot\"\n",
     "output_type": "error",
     "traceback": [
      "Error in ggplot(data = cdc, mapping = aes(x = weight, y = wdiff)): impossible de trouver la fonction \"ggplot\"\nTraceback:\n"
     ]
    },
    {
     "data": {
      "image/png": "[encoded data removed]",
      "text/plain": [
       "Plot with title \"Histogram of cdc$wdiff\""
      ]
     },
     "metadata": {},
     "output_type": "display_data"
    }
   ],
   "source": [
    "#22.\tDescribe the distribution of wdiff in terms of its center, shape, and spread, including any plots you use. What does this tell us about how people feel about their current weight?\n",
    "hist(cdc$wdiff)\n",
    "# the sh  shape of the distribution of wdiff is unimodel and symmetric. mean and median are near to the center\n",
    "\n",
    "ggplot(data = cdc, mapping = aes(x = weight, y = wdiff)) + geom_point(color=\"red\", shape=1) + geom_smooth()\n",
    "#we notice that all people that has more than 300 in weight they want to lose it."
   ]
  },
  {
   "cell_type": "code",
   "execution_count": 6,
   "metadata": {},
   "outputs": [
    {
     "data": {
      "image/png": "[encoded data removed]",
      "text/plain": [
       "Plot with title \"df1\""
      ]
     },
     "metadata": {},
     "output_type": "display_data"
    },
    {
     "data": {
      "image/png": "[encoded data removed]",
      "text/plain": [
       "Plot with title \"dfl\""
      ]
     },
     "metadata": {},
     "output_type": "display_data"
    },
    {
     "data": {
      "image/png": "[encoded data removed]",
      "text/plain": [
       "Plot with title \"dfg\""
      ]
     },
     "metadata": {},
     "output_type": "display_data"
    },
    {
     "data": {
      "image/png": "[encoded data removed]",
      "text/plain": [
       "plot without title"
      ]
     },
     "metadata": {},
     "output_type": "display_data"
    }
   ],
   "source": [
    "#23.\tUsing numerical summaries and a side-by-side box plot, determine if men tend to view their weight differently than women.\n",
    "\n",
    "#people that are satisfied with their weight\n",
    "df1 = table(cdc$gender,cdc$wdiff == 0)\n",
    "mosaicplot(df1)\n",
    "\n",
    "#people that either want to lose weight\n",
    "dfl = table(cdc$gender, cdc$wdiff > 0)\n",
    "mosaicplot(dfl)\n",
    "\n",
    "#people that either want to gain weight\n",
    "dfg = table(cdc$gender, cdc$wdiff < 0)\n",
    "mosaicplot(dfg)\n",
    "\n",
    "boxplot(cdc$wdiff ~ cdc$gender)\n",
    "\n",
    "#we notice that men are satisfied with their weight more than wemon,and men want to gain weight more than wemon,and wemon want to lose weight more than men.\n"
   ]
  },
  {
   "cell_type": "code",
   "execution_count": 8,
   "metadata": {},
   "outputs": [
    {
     "data": {
      "image/png": "[encoded data removed]",
      "text/plain": [
       "Plot with title \"Histogram of cdc$weight\""
      ]
     },
     "metadata": {},
     "output_type": "display_data"
    }
   ],
   "source": [
    "#24.\tFind the mean and standard deviation of weight and determine what proportion of the weights is within one standard deviation of the mean.\n",
    "#SD =(cdc$weight - mean)^2\n",
    "#SD = sqrt(sum(SD) / dim(cdc)[1]-1)\n",
    "\n",
    "sd = sd(cdc$weight)\n",
    "mean = mean(cdc$weight)\n",
    "hist(cdc$weight)\n",
    "\n",
    "#in one standard deviation of the mean there is 68% of data. So 68% of people has 170 weights plus 40 or minus 40   \n"
   ]
  },
  {
   "cell_type": "code",
   "execution_count": null,
   "metadata": {},
   "outputs": [],
   "source": []
  }
 ],
 "metadata": {
  "kernelspec": {
   "display_name": "R",
   "language": "R",
   "name": "ir"
  },
  "language_info": {
   "codemirror_mode": "r",
   "file_extension": ".r",
   "mimetype": "text/x-r-source",
   "name": "R",
   "pygments_lexer": "r",
   "version": "3.5.1"
  }
 },
 "nbformat": 4,
 "nbformat_minor": 2
}
