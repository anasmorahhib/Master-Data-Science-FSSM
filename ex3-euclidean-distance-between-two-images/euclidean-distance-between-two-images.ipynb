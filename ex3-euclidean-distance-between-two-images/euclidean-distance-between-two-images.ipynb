{
 "cells": [
  {
   "cell_type": "code",
   "execution_count": 2,
   "metadata": {},
   "outputs": [],
   "source": [
    "# importing libraries\n",
    "import numpy as np\n",
    "import math\n",
    "import matplotlib.image as img"
   ]
  },
  {
   "cell_type": "code",
   "execution_count": 21,
   "metadata": {},
   "outputs": [],
   "source": [
    "# two images to calculate the distance between them\n",
    "# imgread for transform image tu vector\n",
    "testImage = img.imread(\"img-1.png\")\n",
    "testImage2 = img.imread(\"img-2.png\")"
   ]
  },
  {
   "cell_type": "code",
   "execution_count": 22,
   "metadata": {},
   "outputs": [
    {
     "data": {
      "text/plain": [
       "(32, 32, 3)"
      ]
     },
     "execution_count": 22,
     "metadata": {},
     "output_type": "execute_result"
    }
   ],
   "source": [
    "# the image dimensions\n",
    "# in this example 32*32 it's the pixel number of height and width of the image\n",
    "# 3 is the main color number (RGB) example: [0,0,0] is [0 red, 0 green and 0 blue] -> so this pixel is black\n",
    "testImage.shape"
   ]
  },
  {
   "cell_type": "code",
   "execution_count": 23,
   "metadata": {},
   "outputs": [
    {
     "name": "stdout",
     "output_type": "stream",
     "text": [
      "Euclidean distance: 18.114586\n"
     ]
    }
   ],
   "source": [
    "# Euclidean distance using the numpy library\n",
    "print('Euclidean distance:', np.linalg.norm(testImage - testImage2))"
   ]
  },
  {
   "cell_type": "code",
   "execution_count": 24,
   "metadata": {},
   "outputs": [
    {
     "name": "stdout",
     "output_type": "stream",
     "text": [
      "{'distance': 328.13841609970694, 'sqrt distance': 18.114591248485485, 'percentage': 0.10681589065745668}\n"
     ]
    }
   ],
   "source": [
    "# Euclidean distance without library\n",
    "def calculdist() :\n",
    "    pixels = testImage.shape[0] * testImage.shape[1] * testImage.shape[2]\n",
    "    distance = 0\n",
    "    for i in range(0, testImage.shape[0]):\n",
    "        for j in range(0, testImage.shape[1]):\n",
    "            for k in range(0, testImage.shape[2]):\n",
    "                distance += (testImage[i][j][k] - testImage2[i][j][k])**2\n",
    "    #  if the return is 0, then these are the same images\n",
    "    return {\"distance\" : distance, \"sqrt distance\": math.sqrt(distance), \"percentage\": distance/pixels } \n",
    "\n",
    "print(calculdist())\n",
    "            "
   ]
  }
 ],
 "metadata": {
  "kernelspec": {
   "display_name": "Python 3",
   "language": "python",
   "name": "python3"
  },
  "language_info": {
   "codemirror_mode": {
    "name": "ipython",
    "version": 3
   },
   "file_extension": ".py",
   "mimetype": "text/x-python",
   "name": "python",
   "nbconvert_exporter": "python",
   "pygments_lexer": "ipython3",
   "version": "3.7.0"
  }
 },
 "nbformat": 4,
 "nbformat_minor": 2
}
